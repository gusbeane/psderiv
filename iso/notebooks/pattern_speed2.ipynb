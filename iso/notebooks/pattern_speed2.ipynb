{
 "cells": [
  {
   "cell_type": "code",
   "execution_count": 1,
   "id": "1eb82da3-a161-4369-881e-2879ce4b149f",
   "metadata": {},
   "outputs": [],
   "source": [
    "import numpy as np\n",
    "import arepo\n",
    "import matplotlib.pyplot as plt\n",
    "from numba import njit"
   ]
  },
  {
   "cell_type": "code",
   "execution_count": 2,
   "id": "96a4a909-41d5-4a73-b75e-de994a5ee9d5",
   "metadata": {},
   "outputs": [],
   "source": [
    "basepath = '/n/holylfs05/LABS/hernquist_lab/Users/abeane/psderiv/'"
   ]
  },
  {
   "cell_type": "code",
   "execution_count": 3,
   "id": "d0fee1e3-951b-4757-bc01-4a40a1d6f434",
   "metadata": {},
   "outputs": [],
   "source": [
    "sn = arepo.Snapshot(basepath + 'iso/runs/Nbody/lvl3/output', 500, combineFiles=True)"
   ]
  },
  {
   "cell_type": "code",
   "execution_count": 4,
   "id": "c9eeadf6-16de-4cea-923b-5b790695f2ba",
   "metadata": {},
   "outputs": [],
   "source": [
    "center = sn.part1.pos.value[np.argmin(sn.part1.pot.value)]\n",
    "pos = sn.part2.pos.value - center\n",
    "mass = np.full(sn.NumPart_Total[2], sn.MassTable[2])\n",
    "vel = sn.part2.vel.value\n",
    "acc = sn.part2.acce"
   ]
  },
  {
   "cell_type": "code",
   "execution_count": 260,
   "id": "3cdb3928-6777-4882-9330-1a98efadd808",
   "metadata": {},
   "outputs": [],
   "source": [
    "sn1 = arepo.Snapshot(basepath + 'iso/runs/Nbody/lvl3/output', 501, combineFiles=True)"
   ]
  },
  {
   "cell_type": "code",
   "execution_count": 241,
   "id": "5511e0ec-56e1-4d40-b6a7-39a302538680",
   "metadata": {},
   "outputs": [],
   "source": [
    "center1 = sn1.part1.pos.value[np.argmin(sn1.part1.pot.value)]\n",
    "pos1 = sn1.part2.pos.value - center1\n",
    "mass1 = np.full(sn1.NumPart_Total[2], sn1.MassTable[2])\n",
    "vel1 = sn1.part2.vel.value\n",
    "acc1 = sn1.part2.acce"
   ]
  },
  {
   "cell_type": "code",
   "execution_count": 259,
   "id": "93e418e0-0f97-4c02-9590-c8dcfd2e08aa",
   "metadata": {},
   "outputs": [],
   "source": [
    "sn2 = arepo.Snapshot(basepath + 'iso/runs/Nbody/lvl3/output', 502, combineFiles=True)"
   ]
  },
  {
   "cell_type": "code",
   "execution_count": 261,
   "id": "c2ccc751-5191-40a5-bfb2-c0bf5c92aa25",
   "metadata": {},
   "outputs": [],
   "source": [
    "center2 = sn2.part1.pos.value[np.argmin(sn2.part1.pot.value)]\n",
    "pos2 = sn2.part2.pos.value - center2\n",
    "mass2 = np.full(sn2.NumPart_Total[2], sn2.MassTable[2])\n",
    "vel2 = sn2.part2.vel.value\n",
    "acc2 = sn2.part2.acce"
   ]
  },
  {
   "cell_type": "code",
   "execution_count": 8,
   "id": "cdb60294-4558-440f-ad43-a9e9cb493f18",
   "metadata": {},
   "outputs": [],
   "source": [
    "def generate_bins(pos,\n",
    "                  Nmin=4000,\n",
    "                  Nmax=32000,\n",
    "                  DexBin=0.1):\n",
    "    R = np.linalg.norm(pos[:,:2], axis=1)\n",
    "    R = R[np.argsort(R)]\n",
    "    \n",
    "    bins = []\n",
    "    \n",
    "    Rmin = 0\n",
    "    i = Nmin - 1\n",
    "    Rmax = R[i]\n",
    "    bins.append([Rmin, Rmax])\n",
    "    \n",
    "    # create first set of bins\n",
    "    \n",
    "    while Rmax < 10:\n",
    "        Rmin = R[i+1]\n",
    "        \n",
    "        Rmax_ = 10.**(DexBin) * Rmin\n",
    "        key_Rmax = np.where(R < Rmax_)[0]\n",
    "        Rmax = R[key_Rmax[-1]]\n",
    "        N = len(np.where(np.logical_and(R >= Rmin, R <= Rmax))[0])\n",
    "        \n",
    "        if N < Nmin:\n",
    "            Rmax = R[i+Nmin]\n",
    "            N = Nmin\n",
    "        elif N > Nmax:\n",
    "            Rmax = R[i+Nmax]\n",
    "            N = Nmax\n",
    "        \n",
    "        bins.append([Rmin, Rmax])\n",
    "        i = i + N - 1\n",
    "    \n",
    "    bins_with_int = []\n",
    "    \n",
    "    # second interleaving set of bins\n",
    "    for i in range(len(bins)-1):\n",
    "        bin0 = bins[i]\n",
    "        bin1 = bins[i+1]\n",
    "        \n",
    "        Rmin = (bin0[0] + bin0[1])/2.\n",
    "        Rmax = (bin1[0] + bin1[1])/2.\n",
    "    \n",
    "        bins_with_int.append(bin0)\n",
    "        bins_with_int.append([Rmin, Rmax])\n",
    "    \n",
    "    bins_with_int.append(bin1)\n",
    "    \n",
    "    return bins_with_int"
   ]
  },
  {
   "cell_type": "code",
   "execution_count": 9,
   "id": "4c8d99a5-6a63-4598-8f9c-421f58fae7ab",
   "metadata": {},
   "outputs": [],
   "source": [
    "def Fourier_analysis(pos, mass, bins):\n",
    "    R = np.linalg.norm(pos[:,:2], axis=1)\n",
    "    \n",
    "    cphi = pos[:,0]/R\n",
    "    sphi = pos[:,1]/R\n",
    "    c2phi = (pos[:,0]**2 - pos[:,1]**2)/R**2\n",
    "    s2phi = 2*pos[:,0]*pos[:,1]/R**2\n",
    "    \n",
    "    Sigma2_bins = []\n",
    "    Sigma0_bins = []\n",
    "    phi2_bins = []\n",
    "    R_bins = []\n",
    "    \n",
    "    for Rmin, Rmax in bins:\n",
    "        key = np.logical_and(R >= Rmin, R <= Rmax)\n",
    "        C2 = np.sum(mass[key] * c2phi[key])\n",
    "        S2 = np.sum(mass[key] * s2phi[key])\n",
    "        \n",
    "        Sigma2 = np.sqrt(C2**2 + S2**2)\n",
    "        Sigma0 = np.sum(mass[key])\n",
    "        phi2 = 0.5 * np.arctan2(S2, C2)\n",
    "        \n",
    "        R_bins.append(np.mean(R[key]))\n",
    "        \n",
    "        Sigma2_bins.append(Sigma2)\n",
    "        Sigma0_bins.append(Sigma0)\n",
    "        phi2_bins.append(phi2)\n",
    "    \n",
    "    R_bins = np.array(R_bins)\n",
    "    Sigma2_bins = np.array(Sigma2_bins)\n",
    "    Sigma0_bins = np.array(Sigma0_bins)\n",
    "    phi2_bins = np.array(phi2_bins)\n",
    "    \n",
    "    return R_bins, Sigma2_bins, Sigma0_bins, phi2_bins"
   ]
  },
  {
   "cell_type": "code",
   "execution_count": 10,
   "id": "6cc33aeb-1727-44a5-87c5-c0e99db20012",
   "metadata": {},
   "outputs": [],
   "source": [
    "def identify_bar_region(bins, A2, phi2,\n",
    "                        bar_A2_thresh=0.2, Dphi2_thresh=10*np.pi/180.,\n",
    "                        min_A2_thresh=0.05):\n",
    "    \n",
    "    A2max = np.max(A2)\n",
    "\n",
    "    if A2max < bar_A2_thresh:\n",
    "        is_barred = False\n",
    "        return is_barred, np.nan, np.nan, A2max, np.nan\n",
    "    else:\n",
    "        is_barred = True\n",
    "    \n",
    "    lower_i = np.argmax(A2)\n",
    "    upper_i = lower_i\n",
    "    \n",
    "    phi2_list = [phi2[lower_i]]\n",
    "    Dphi2 = 0.0\n",
    "    phi2_mean = phi2[lower_i]\n",
    "    \n",
    "    while True:\n",
    "        lower_i_ = lower_i - 1\n",
    "        upper_i_ = upper_i + 1\n",
    "        \n",
    "        lower_eligible = A2[lower_i_] > A2max/2.\n",
    "        upper_eligible = A2[upper_i_] > A2max/2.\n",
    "        \n",
    "        phi2_mean = np.mean(phi2_list)\n",
    "        \n",
    "        if lower_eligible and upper_eligible:\n",
    "            phi2_lower = phi2[lower_i_]\n",
    "            phi2_upper = phi2[upper_i_]\n",
    "            \n",
    "            if np.abs(phi2_upper - phi2_mean) < np.abs(phi2_lower - phi2_mean):\n",
    "                phi2_list.append(phi2_upper)\n",
    "                Dphi2 = np.max(phi2_list) - np.min(phi2_list)\n",
    "                if Dphi2 < Dphi2_thresh:\n",
    "                    upper_i = upper_i_\n",
    "                    continue\n",
    "                else:\n",
    "                    break\n",
    "            else:\n",
    "                phi2_list.append(phi2_lower)\n",
    "                Dphi2 = np.max(phi2_list) - np.min(phi2_list)\n",
    "                if Dphi2 < Dphi2_thresh:\n",
    "                    lower_i = lower_i_\n",
    "                    continue\n",
    "                else:\n",
    "                    break\n",
    "        \n",
    "        if lower_eligible and not upper_eligible:\n",
    "            phi2_list.append(phi2_lower)\n",
    "            Dphi2 = np.max(phi2_list) - np.min(phi2_list)\n",
    "            if Dphi2 < Dphi2_thresh:\n",
    "                lower_i = lower_i_\n",
    "                continue\n",
    "            else:\n",
    "                break\n",
    "                \n",
    "        if upper_eligible and not lower_eligible:\n",
    "            phi2_list.append(phi2_upper)\n",
    "            Dphi2 = np.max(phi2_list) - np.min(phi2_list)\n",
    "            if Dphi2 < Dphi2_thresh:\n",
    "                upper_i = upper_i_\n",
    "                continue\n",
    "            else:\n",
    "                break\n",
    "        \n",
    "        if not upper_eligible and not lower_eligible:\n",
    "            break\n",
    "    \n",
    "    Rmin = bins[lower_i][0]\n",
    "    Rmax = bins[upper_i][1]\n",
    "    \n",
    "    return is_barred, Rmin, Rmax, A2max, phi2_mean\n",
    "    "
   ]
  },
  {
   "cell_type": "code",
   "execution_count": 11,
   "id": "2299cf9b-3736-4b7b-9ff1-d62cd1ca595f",
   "metadata": {},
   "outputs": [],
   "source": [
    "@njit\n",
    "def window(x, R0, R1):\n",
    "\n",
    "    Rm = (R0+R1)/2\n",
    "    L = (R1-R0)/2\n",
    "    \n",
    "    W = np.zeros(x.shape)\n",
    "    \n",
    "    for i in range(len(x)):\n",
    "        if x[i] < (R0+1e-12) or x[i] > (R1-1e-12):\n",
    "            W[i] = 0.0\n",
    "        else:\n",
    "            W[i] = np.exp(-1/(1-((x[i]-Rm)/L)**2))\n",
    "    \n",
    "    return W\n",
    "\n",
    "@njit\n",
    "def grad_window(x, R0, R1):\n",
    "    \n",
    "    Rm = (R0+R1)/2\n",
    "    L = (R1-R0)/2\n",
    "    \n",
    "    dW = np.zeros(x.shape)\n",
    "    \n",
    "    for i in range(len(x)):\n",
    "        if x[i] < (R0+1e-12) or x[i] > (R1-1e-12):\n",
    "            dW[i] = 0.0\n",
    "        else:\n",
    "            dW[i] = np.exp(-1/(1-((x[i]-Rm)/L)**2))\n",
    "            dW[i] *= -2*L**2*(x[i]-Rm)\n",
    "            dW[i] /= (L**2-(x[i]-Rm)**2)**2\n",
    "    \n",
    "    # ans[np.logical_or(x<R0, x>R1)] = 0\n",
    "    # ans[np.logical_or(x<(R0+1e-12), x>(R1-1e-12))] = 0\n",
    "    \n",
    "    return dW\n",
    "\n",
    "@njit\n",
    "def grad2_window(x, R0, R1):\n",
    "    \n",
    "    Rm = (R0+R1)/2\n",
    "    L = (R1-R0)/2\n",
    "    \n",
    "    ddW = np.zeros(x.shape)\n",
    "    \n",
    "    for i in range(len(x)):\n",
    "        if x[i] < (R0+1e-12) or x[i] > (R1-1e-12):\n",
    "            ddW[i] = 0.0\n",
    "        else:\n",
    "            ddW[i] = np.exp(-1/(1-((x[i]-Rm)/L)**2))\n",
    "            ddW[i] *= -2 * L**2 * (L**4 - 3*(x[i]-Rm)**4)\n",
    "            ddW[i] /= (L**2-(x[i]-Rm)**2)**4\n",
    "    \n",
    "    return ddW"
   ]
  },
  {
   "cell_type": "code",
   "execution_count": 12,
   "id": "f3cae018-744c-445e-89ea-eb45dd51721f",
   "metadata": {},
   "outputs": [],
   "source": [
    "def rotate_pos(pos, ang):\n",
    "\n",
    "    Rmat = np.array([[np.cos(ang), -np.sin(ang), 0.0],\n",
    "                     [np.sin(ang),  np.cos(ang), 0.0],\n",
    "                     [0.0,         0.0,          1.0]])\n",
    "    \n",
    "    pos = np.swapaxes(pos, 0, 1)\n",
    "    pos = np.matmul(Rmat, pos)\n",
    "    pos = np.swapaxes(pos, 0, 1)\n",
    "    \n",
    "    return pos"
   ]
  },
  {
   "cell_type": "code",
   "execution_count": 32,
   "id": "52721465-be79-4161-ae05-271265ab0972",
   "metadata": {},
   "outputs": [],
   "source": [
    "def compute_pattern_speed(pos, vel, acc, mass, R0, R1, phi2):\n",
    "    # compute R\n",
    "    print(phi2)\n",
    "    pos = rotate_pos(pos, -phi2)\n",
    "    vel = rotate_pos(vel, -phi2)\n",
    "    acc = rotate_pos(acc, -phi2)\n",
    "\n",
    "    R = np.linalg.norm(pos[:,:2], axis=1)\n",
    "    vmag = np.linalg.norm(vel, axis=1)\n",
    "    \n",
    "    # compute cos and sin terms\n",
    "    # cphi = pos[:,0]/R\n",
    "    # sphi = pos[:,1]/R\n",
    "    # c2phi = (pos[:,0]**2 - pos[:,1]**2)/R**2\n",
    "    # s2phi = 2*pos[:,0]*pos[:,1]/R**2\n",
    "    phi = np.arctan2(pos[:,1], pos[:,0])\n",
    "    cphi = np.cos(phi)\n",
    "    sphi = np.sin(phi)\n",
    "    c2phi = np.cos(2*phi)\n",
    "    s2phi = np.sin(2*phi)\n",
    "    \n",
    "    # compute vel and acc in cylindrical coordinates\n",
    "    velR = vel[:,0] * cphi + vel[:,1] * sphi\n",
    "    velphi = - vel[:,0] * sphi + vel[:,1] * cphi\n",
    "    \n",
    "    accR = acc[:,0] * cphi + acc[:,1] * sphi\n",
    "    accphi = - acc[:,0] * sphi + acc[:,1] * cphi\n",
    "    \n",
    "    # compute window functions\n",
    "    W = window(R, R0, R1)\n",
    "    dW = grad_window(R, R0, R1)\n",
    "    ddW = grad2_window(R, R0, R1)\n",
    "    \n",
    "    # compute C2, S2, Cdot2, and Sdot2\n",
    "    C2 = np.sum(mass * W * c2phi)\n",
    "    S2 = np.sum(mass * W * s2phi)\n",
    "    \n",
    "    Cdot2 = np.sum(mass * (velR*dW*c2phi - 2 * (velphi/R) * W * s2phi))\n",
    "    Sdot2 = np.sum(mass * (velR*dW*s2phi + 2 * (velphi/R) * W * c2phi))\n",
    "    \n",
    "    # compute pattern speed from C, S terms\n",
    "    Omegap = 0.5 * (C2*Sdot2 - S2*Cdot2) / (C2**2 + S2**2)\n",
    "    \n",
    "    #compute Cddot2, Sddot2\n",
    "#     denom = 2. * np.sum(mass * W * s2phi)\n",
    "    \n",
    "#     term1 = -4 * Omegap**2 * np.sum(mass * W * c2phi)\n",
    "#     term2 = np.sum(mass * vmag**2 * c2phi * dW / R)\n",
    "#     term3 = np.sum(mass * vmag**2 * c2phi * ddW)\n",
    "#     term4 = - 4 * np.sum(mass * vmag**2 * c2phi * W / R**2)\n",
    "#     term5 = - np.sum(mass * accR * c2phi * dW)\n",
    "#     term6 = 2 * np.sum(accphi * s2phi * W / R)\n",
    "    \n",
    "#     Omegapdot = (term1 + term2 + term3 + term4 + term5 + term6)/denom\n",
    "#     print('term1: ', term1)\n",
    "#     print('term2: ', term2)\n",
    "#     print('term3: ', term3)\n",
    "#     print('term4: ', term4)\n",
    "#     print('term5: ', term5)\n",
    "#     print('term6: ', term6)\n",
    "#     print('denom: ', denom)\n",
    "    \n",
    "    \n",
    "    C = 2 * np.sum(mass * W * s2phi)\n",
    "    D = 2 * np.sum(mass * W * c2phi)\n",
    "    \n",
    "    A1 = -4*Omegap**2 * np.sum(mass * c2phi * W)\n",
    "    A2 = np.sum(mass *vmag**2 * c2phi * dW / R)\n",
    "    A3 = np.sum(mass * vmag**2 * c2phi * ddW)\n",
    "    A4 = -4 * np.sum(mass * vmag**2 * c2phi * W / R**2)\n",
    "    A5 = - np.sum(mass * accR * c2phi * dW)\n",
    "    A6 = 2 * np.sum(mass * accphi * s2phi * W / R)\n",
    "    A = A1 + A2 + A3 + A4 + A5 + A6\n",
    "    \n",
    "    B1 = 4*Omegap**2 * np.sum(mass * s2phi * W)\n",
    "    B2 = -np.sum(mass *vmag**2 * s2phi * dW / R)\n",
    "    B3 = -np.sum(mass * vmag**2 * s2phi * ddW)\n",
    "    B4 = 4 * np.sum(mass * vmag**2 * s2phi * W / R**2)\n",
    "    B5 = np.sum(mass * accR * s2phi * dW)\n",
    "    B6 = 2 * np.sum(mass * accphi * c2phi * W / R)\n",
    "    B = B1 + B2 + B3 + B4 + B5 + B6\n",
    "    \n",
    "    Omegapdot = (A*C + B*D) / (C**2 + D**2)\n",
    "    \n",
    "    # print('C2:', C2)\n",
    "    # print('S2:', S2)\n",
    "    # print('Cdot2:', Cdot2)\n",
    "    # print('Sdot2:', Sdot2)\n",
    "    # print('Cddot2:', Cddot2)\n",
    "    # print('Sddot2:', Sddot2)\n",
    "    \n",
    "    return Omegap, Omegapdot\n",
    "    "
   ]
  },
  {
   "cell_type": "code",
   "execution_count": 23,
   "id": "47e7a1e7-ee82-40f3-996a-0c11b9160c80",
   "metadata": {},
   "outputs": [
    {
     "name": "stdout",
     "output_type": "stream",
     "text": [
      "1.2315247386069543 4.37678360878015\n",
      "36.62150613596706 3071.596692715828\n",
      "-2.2902969149897343\n",
      "CPU times: user 14.6 s, sys: 2.87 s, total: 17.5 s\n",
      "Wall time: 17.6 s\n"
     ]
    }
   ],
   "source": [
    "%%time\n",
    "bins = generate_bins(pos)\n",
    "R, Sigma2, Sigma0, phi2 = Fourier_analysis(pos, mass, bins)\n",
    "is_barred, R0, R1, A2max, phi2_mean = identify_bar_region(bins, Sigma2/Sigma0, phi2)\n",
    "ps, psdot = compute_pattern_speed(pos, vel, acc, mass, R0, R1, phi2_mean)\n",
    "print(R0, R1)\n",
    "print(ps, psdot)\n",
    "print(-psdot/ps**2)"
   ]
  },
  {
   "cell_type": "code",
   "execution_count": 33,
   "id": "3ed39657-2510-4597-80bf-36cb073b4809",
   "metadata": {},
   "outputs": [
    {
     "name": "stdout",
     "output_type": "stream",
     "text": [
      "1.180063268120727\n",
      "36.621506135966996 3071.596692715821\n",
      "-2.290296914989737\n"
     ]
    }
   ],
   "source": [
    "ps, psdot = compute_pattern_speed(pos, vel, acc, mass, R0, R1, phi2_mean)\n",
    "print(ps, psdot)\n",
    "print(-psdot/ps**2)"
   ]
  },
  {
   "cell_type": "code",
   "execution_count": 268,
   "id": "b1446beb-6a36-44bd-b82b-f7020038383f",
   "metadata": {},
   "outputs": [
    {
     "name": "stdout",
     "output_type": "stream",
     "text": [
      "C2: -0.10593755319302545\n",
      "S2: 0.03427574948724319\n",
      "Cdot2: -2.648782640261213\n",
      "Sdot2: -7.737411995630534\n",
      "Cddot2: 387.0048110349126\n",
      "Sddot2: -361.83191983289464\n",
      "36.71969088470757 919.7262414224095\n",
      "-0.6821196252021423\n"
     ]
    }
   ],
   "source": [
    "bins = generate_bins(pos1)\n",
    "R, Sigma2, Sigma0, phi2 = Fourier_analysis(pos1, mass1, bins)\n",
    "is_barred, R01, R11, A2max1, phi2_mean1 = identify_bar_region(bins, Sigma2/Sigma0, phi2)\n",
    "ps, psdot = compute_pattern_speed(pos1, vel1, acc1, mass1, R01, R11, phi2_mean1)\n",
    "# print(R0, R1)\n",
    "print(ps, psdot)\n",
    "print(-psdot/ps**2)"
   ]
  },
  {
   "cell_type": "code",
   "execution_count": 284,
   "id": "f4745c29-513e-4812-ac21-2093350e3049",
   "metadata": {},
   "outputs": [
    {
     "name": "stdout",
     "output_type": "stream",
     "text": [
      "1.3772246087291231\n",
      "C2: 0.11103788561115324\n",
      "S2: 0.008257126524512859\n",
      "Cdot2: -0.46846998273494866\n",
      "Sdot2: 8.164810453449164\n",
      "Cddot2: -494.970856646769\n",
      "Sddot2: 188.94155986571846\n",
      "36.71969088470753 919.7262414224103\n",
      "-0.6821196252021442\n"
     ]
    }
   ],
   "source": [
    "ps, psdot = compute_pattern_speed(pos1, vel1, acc1, mass1, R01, R11, phi2_mean1)\n",
    "print(ps, psdot)\n",
    "print(-psdot/ps**2)"
   ]
  },
  {
   "cell_type": "code",
   "execution_count": 262,
   "id": "7ded1d34-a106-4e9e-9531-fb64a2b9ca99",
   "metadata": {},
   "outputs": [
    {
     "name": "stdout",
     "output_type": "stream",
     "text": [
      "C2: 0.05439563348884029\n",
      "S2: 0.00018929354135811458\n",
      "Cdot2: 5.459944691513263\n",
      "Sdot2: 1.153743259074212\n",
      "Cddot2: -2881.705170326861\n",
      "Sddot2: -958.6821867431457\n",
      "10.430333877537636 -10815.23823911859\n",
      "99.41219648462025\n"
     ]
    }
   ],
   "source": [
    "bins = generate_bins(pos2)\n",
    "R, Sigma2, Sigma0, phi2 = Fourier_analysis(pos2, mass2, bins)\n",
    "is_barred, R02, R12, A2max2, phi2_mean2 = identify_bar_region(bins, Sigma2/Sigma0, phi2)\n",
    "ps, psdot = compute_pattern_speed(pos2, vel2, acc2, mass2, R02, R12, phi2_mean2)\n",
    "# print(R0, R1)\n",
    "print(ps, psdot)\n",
    "print(-psdot/ps**2)"
   ]
  },
  {
   "cell_type": "code",
   "execution_count": 285,
   "id": "bbaec84a-38d0-496f-93b5-11b9b128538e",
   "metadata": {},
   "outputs": [
    {
     "name": "stdout",
     "output_type": "stream",
     "text": [
      "1.5319436165516598\n",
      "C2: 0.05439563348884031\n",
      "S2: 0.00018929354135811133\n",
      "Cdot2: 0.035670566005610985\n",
      "Sdot2: 4.127311061733078\n",
      "Cddot2: 171.95343781908613\n",
      "Sddot2: 193.81955694218564\n",
      "37.936289055203474 1706.2638054450651\n",
      "-1.1855953486140423\n"
     ]
    }
   ],
   "source": [
    "ps, psdot = compute_pattern_speed(pos2, vel2, acc2, mass2, R02, R12, phi2_mean2)\n",
    "# print(R0, R1)\n",
    "print(ps, psdot)\n",
    "print(-psdot/ps**2)"
   ]
  },
  {
   "cell_type": "markdown",
   "id": "ae86288d-27d8-481d-b0bb-ef413fc22f05",
   "metadata": {},
   "source": [
    "### Window function tests"
   ]
  },
  {
   "cell_type": "code",
   "execution_count": 160,
   "id": "d8e4cd06-3d4a-4f94-946b-003f381a8fb4",
   "metadata": {},
   "outputs": [
    {
     "data": {
      "text/plain": [
       "[<matplotlib.lines.Line2D at 0x2ae396b89a60>]"
      ]
     },
     "execution_count": 160,
     "metadata": {},
     "output_type": "execute_result"
    },
    {
     "data": {
      "image/png": "[encoded data removed]",
      "text/plain": [
       "<Figure size 432x288 with 1 Axes>"
      ]
     },
     "metadata": {
      "needs_background": "light"
     },
     "output_type": "display_data"
    }
   ],
   "source": [
    "plt.plot(R, Sigma2/Sigma0)\n",
    "plt.plot(R, window(R, R0, R1))"
   ]
  },
  {
   "cell_type": "code",
   "execution_count": 156,
   "id": "71f43100-81b6-4b62-b7e7-c284389ef78b",
   "metadata": {},
   "outputs": [
    {
     "data": {
      "text/plain": [
       "[<matplotlib.lines.Line2D at 0x2ae396c1d5e0>]"
      ]
     },
     "execution_count": 156,
     "metadata": {},
     "output_type": "execute_result"
    },
    {
     "data": {
      "image/png": "[encoded data removed]",
      "text/plain": [
       "<Figure size 288x864 with 3 Axes>"
      ]
     },
     "metadata": {
      "needs_background": "light"
     },
     "output_type": "display_data"
    }
   ],
   "source": [
    "fig, ax = plt.subplots(3, 1, figsize=(4, 12))\n",
    "\n",
    "x = np.linspace(-2, 4, 1000)\n",
    "y = window(x, 0.5, 3)\n",
    "yp = grad_window(x, 0.5, 3)\n",
    "ypp = grad2_window(x, 0.5, 3)\n",
    "\n",
    "ax[0].plot(x, y)\n",
    "ax[1].plot(x, yp)\n",
    "ax[2].plot(x, ypp)"
   ]
  },
  {
   "cell_type": "markdown",
   "id": "00adf3c1-00a1-49ac-89b1-f68c81398d81",
   "metadata": {},
   "source": [
    "### All snapshots"
   ]
  },
  {
   "cell_type": "code",
   "execution_count": 173,
   "id": "82478fdb-c011-41d5-83cc-3a1b5c877e2b",
   "metadata": {},
   "outputs": [],
   "source": [
    "basepath = '/n/holylfs05/LABS/hernquist_lab/Users/abeane/psderiv/'"
   ]
  },
  {
   "cell_type": "code",
   "execution_count": 263,
   "id": "ca8f50b8-33aa-4d0a-a249-f5f5e2623e92",
   "metadata": {},
   "outputs": [],
   "source": [
    "fname = basepath + 'iso/anlys/ps/ps_Nbody-lvl3.npy'\n",
    "dat = np.load(fname, allow_pickle=True).item()"
   ]
  },
  {
   "cell_type": "code",
   "execution_count": 264,
   "id": "e956ae95-4cf7-4242-9395-52f7c519e3ce",
   "metadata": {},
   "outputs": [
    {
     "data": {
      "text/plain": [
       "[<matplotlib.lines.Line2D at 0x2ae462934bb0>]"
      ]
     },
     "execution_count": 264,
     "metadata": {},
     "output_type": "execute_result"
    },
    {
     "data": {
      "image/png": "[encoded data removed]",
      "text/plain": [
       "<Figure size 432x288 with 1 Axes>"
      ]
     },
     "metadata": {
      "needs_background": "light"
     },
     "output_type": "display_data"
    }
   ],
   "source": [
    "plt.plot(dat['time'], dat['ps'])"
   ]
  },
  {
   "cell_type": "code",
   "execution_count": 265,
   "id": "e40670f7-0ab9-42d8-8038-fa6072e34b77",
   "metadata": {},
   "outputs": [
    {
     "name": "stdout",
     "output_type": "stream",
     "text": [
      "36.62150613596705\n",
      "36.71969088470757\n",
      "37.936289055203495\n"
     ]
    }
   ],
   "source": [
    "print(dat['ps'][500])\n",
    "print(dat['ps'][501])\n",
    "print(dat['ps'][502])"
   ]
  },
  {
   "cell_type": "code",
   "execution_count": 257,
   "id": "271ad0a0-c597-4d6e-bb55-a529bce7eed2",
   "metadata": {},
   "outputs": [
    {
     "name": "stdout",
     "output_type": "stream",
     "text": [
      "-0.20822808313615848\n"
     ]
    },
    {
     "data": {
      "image/png": "[encoded data removed]",
      "text/plain": [
       "<Figure size 432x288 with 1 Axes>"
      ]
     },
     "metadata": {
      "needs_background": "light"
     },
     "output_type": "display_data"
    }
   ],
   "source": [
    "eta = - dat['psdot']/dat['ps']**2\n",
    "plt.plot(dat['time'], eta)\n",
    "plt.ylim(-5, 5)\n",
    "plt.xlim(6, 7)\n",
    "print(np.mean(eta[1200:1400]))"
   ]
  },
  {
   "cell_type": "code",
   "execution_count": 234,
   "id": "f43e8308-325c-4220-9f72-46939988272a",
   "metadata": {},
   "outputs": [
    {
     "data": {
      "text/plain": [
       "(-0.1, 0.1)"
      ]
     },
     "execution_count": 234,
     "metadata": {},
     "output_type": "execute_result"
    },
    {
     "data": {
      "image/png": "[encoded data removed]",
      "text/plain": [
       "<Figure size 432x288 with 1 Axes>"
      ]
     },
     "metadata": {
      "needs_background": "light"
     },
     "output_type": "display_data"
    }
   ],
   "source": [
    "plt.plot(dat['time'], np.gradient(dat['ps'], dat['time'])/dat['ps']**2)\n",
    "plt.xlim(2, 3)\n",
    "plt.ylim(-0.1, 0.1)"
   ]
  },
  {
   "cell_type": "code",
   "execution_count": 203,
   "id": "cf0d6e88-4b9f-4982-8d73-df9a6fc2357e",
   "metadata": {},
   "outputs": [
    {
     "data": {
      "text/plain": [
       "(-1000.0, 1000.0)"
      ]
     },
     "execution_count": 203,
     "metadata": {},
     "output_type": "execute_result"
    },
    {
     "data": {
      "image/png": "[encoded data removed]",
      "text/plain": [
       "<Figure size 432x288 with 1 Axes>"
      ]
     },
     "metadata": {
      "needs_background": "light"
     },
     "output_type": "display_data"
    }
   ],
   "source": [
    "plt.scatter(dat['A2max'], dat['psdot'])\n",
    "plt.ylim(-1000, 1000)"
   ]
  },
  {
   "cell_type": "code",
   "execution_count": null,
   "id": "a4cf8311-8e03-442e-9b48-d9f757215dd6",
   "metadata": {},
   "outputs": [],
   "source": []
  }
 ],
 "metadata": {
  "kernelspec": {
   "display_name": "Python 3",
   "language": "python",
   "name": "python3"
  },
  "language_info": {
   "codemirror_mode": {
    "name": "ipython",
    "version": 3
   },
   "file_extension": ".py",
   "mimetype": "text/x-python",
   "name": "python",
   "nbconvert_exporter": "python",
   "pygments_lexer": "ipython3",
   "version": "3.8.8"
  }
 },
 "nbformat": 4,
 "nbformat_minor": 5
}
